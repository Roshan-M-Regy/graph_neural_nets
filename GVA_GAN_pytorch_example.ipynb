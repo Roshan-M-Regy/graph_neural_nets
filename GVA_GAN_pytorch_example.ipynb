{
  "nbformat": 4,
  "nbformat_minor": 0,
  "metadata": {
    "colab": {
      "name": "Graph_Variational_Autoencoder.ipynb",
      "provenance": []
    },
    "kernelspec": {
      "name": "python3",
      "display_name": "Python 3"
    },
    "language_info": {
      "name": "python"
    },
    "accelerator": "GPU"
  },
  "cells": [
    {
      "cell_type": "code",
      "execution_count": null,
      "metadata": {
        "id": "LBFibtdu50nn",
        "colab": {
          "base_uri": "https://localhost:8080/"
        },
        "outputId": "98740414-8401-4766-be01-a1b25767bd4e"
      },
      "outputs": [
        {
          "output_type": "stream",
          "name": "stdout",
          "text": [
            "\u001b[K     |████████████████████████████████| 7.9 MB 4.8 MB/s \n",
            "\u001b[K     |████████████████████████████████| 3.5 MB 5.2 MB/s \n",
            "\u001b[?25h  Building wheel for torch-geometric (setup.py) ... \u001b[?25l\u001b[?25hdone\n"
          ]
        }
      ],
      "source": [
        "!pip install -q torch-scatter -f https://data.pyg.org/whl/torch-1.10.0+cu113.html\n",
        "!pip install -q torch-sparse -f https://data.pyg.org/whl/torch-1.10.0+cu113.html\n",
        "!pip install -q git+https://github.com/pyg-team/pytorch_geometric.git"
      ]
    },
    {
      "cell_type": "code",
      "source": [
        "!curl -Lo conda_installer.py https://raw.githubusercontent.com/deepchem/deepchem/master/scripts/colab_install.py\n",
        "import conda_installer\n",
        "conda_installer.install()\n",
        "!/root/miniconda/bin/conda info -e\n",
        "\n",
        "!pip install --pre deepchem\n",
        "import deepchem\n",
        "deepchem.__version__"
      ],
      "metadata": {
        "id": "YUgde_yp8h-O"
      },
      "execution_count": null,
      "outputs": []
    },
    {
      "cell_type": "code",
      "source": [
        "import rdkit\n",
        "import torch\n",
        "from torch_geometric.datasets import MoleculeNet\n",
        "import torch_geometric.transforms as T\n",
        "from torch_geometric.nn import GCNConv\n",
        "from torch_geometric.utils import train_test_split_edges"
      ],
      "metadata": {
        "id": "z5sRakaf8YiT"
      },
      "execution_count": null,
      "outputs": []
    },
    {
      "cell_type": "code",
      "source": [
        "# Load the ESOL dataset\n",
        "data = MoleculeNet(root=\".\", name=\"ESOL\")\n",
        "data"
      ],
      "metadata": {
        "colab": {
          "base_uri": "https://localhost:8080/"
        },
        "id": "6042wO--S3XJ",
        "outputId": "69441bec-e5c1-4a89-ae38-ff8bc73612ba"
      },
      "execution_count": null,
      "outputs": [
        {
          "output_type": "stream",
          "name": "stderr",
          "text": [
            "Downloading https://deepchemdata.s3-us-west-1.amazonaws.com/datasets/delaney-processed.csv\n",
            "Processing...\n",
            "Done!\n"
          ]
        },
        {
          "output_type": "execute_result",
          "data": {
            "text/plain": [
              "ESOL(1128)"
            ]
          },
          "metadata": {},
          "execution_count": 4
        }
      ]
    },
    {
      "cell_type": "code",
      "source": [
        "data.data"
      ],
      "metadata": {
        "colab": {
          "base_uri": "https://localhost:8080/"
        },
        "id": "R92z2YF68-J-",
        "outputId": "cd76e4e3-f7d1-4d88-f305-3d98115b2cff"
      },
      "execution_count": null,
      "outputs": [
        {
          "output_type": "execute_result",
          "data": {
            "text/plain": [
              "Data(x=[14991, 9], edge_index=[2, 30856], edge_attr=[30856, 3], smiles=[1128], y=[1128, 1])"
            ]
          },
          "metadata": {},
          "execution_count": 5
        }
      ]
    },
    {
      "cell_type": "code",
      "source": [
        "from rdkit import Chem\n",
        "from rdkit.Chem.Draw import IPythonConsole\n",
        "print(data[0][\"smiles\"])\n",
        "molecule = Chem.MolFromSmiles(data[1][\"smiles\"])\n",
        "molecule"
      ],
      "metadata": {
        "colab": {
          "base_uri": "https://localhost:8080/",
          "height": 184
        },
        "id": "K5kniHUKe5rI",
        "outputId": "31cf758b-825d-4ed1-c380-abbb99489759"
      },
      "execution_count": null,
      "outputs": [
        {
          "output_type": "stream",
          "name": "stdout",
          "text": [
            "OCC3OC(OCC2OC(OC(C#N)c1ccccc1)C(O)C(O)C2O)C(O)C(O)C3O \n"
          ]
        },
        {
          "output_type": "execute_result",
          "data": {
            "text/plain": [
              "<rdkit.Chem.rdchem.Mol at 0x7fd9ecbb6e40>"
            ],
            "image/png": "[encoded data removed]"
          },
          "metadata": {},
          "execution_count": 7
        }
      ]
    },
    {
      "cell_type": "code",
      "source": [
        "data_t = data[0]\n",
        "data_t.train_mask = data_t.val_mask = data_t.test_mask = None\n"
      ],
      "metadata": {
        "id": "cOCveMaJ9n4R"
      },
      "execution_count": null,
      "outputs": []
    },
    {
      "cell_type": "code",
      "source": [
        "data_t = train_test_split_edges(data_t)"
      ],
      "metadata": {
        "colab": {
          "base_uri": "https://localhost:8080/"
        },
        "id": "yrl9OWU-974O",
        "outputId": "b3858b8a-2f2f-41b2-cc19-f415e6d8bee0"
      },
      "execution_count": null,
      "outputs": [
        {
          "output_type": "stream",
          "name": "stderr",
          "text": [
            "/usr/local/lib/python3.7/dist-packages/torch_geometric/deprecation.py:12: UserWarning: 'train_test_split_edges' is deprecated, use 'transforms.RandomLinkSplit' instead\n",
            "  warnings.warn(out)\n"
          ]
        }
      ]
    },
    {
      "cell_type": "code",
      "source": [
        "data_t"
      ],
      "metadata": {
        "colab": {
          "base_uri": "https://localhost:8080/"
        },
        "id": "hwU3f0qb9_wR",
        "outputId": "e02b6499-b055-4ebc-8ef0-84b3728215f5"
      },
      "execution_count": null,
      "outputs": [
        {
          "output_type": "execute_result",
          "data": {
            "text/plain": [
              "Data(x=[32, 9], smiles='OCC3OC(OCC2OC(OC(C#N)c1ccccc1)C(O)C(O)C2O)C(O)C(O)C3O ', y=[1, 1], val_pos_edge_index=[2, 1], val_pos_edge_attr=[1, 3], test_pos_edge_index=[2, 3], test_pos_edge_attr=[3, 3], train_pos_edge_index=[2, 60], train_pos_edge_attr=[60, 3], train_neg_adj_mask=[32, 32], val_neg_edge_index=[2, 1], test_neg_edge_index=[2, 3])"
            ]
          },
          "metadata": {},
          "execution_count": 10
        }
      ]
    },
    {
      "cell_type": "code",
      "source": [
        "class GCNEncoder(torch.nn.Module):\n",
        "  def __init__(self, in_channels, out_channels):\n",
        "    super(GCNEncoder, self).__init__()\n",
        "    self.conv1 = GCNConv(in_channels, out_channels*2, cached = True)\n",
        "    self.conv2 = GCNConv(out_channels*2, out_channels, cached = True)\n",
        "  \n",
        "  def forward(self, x, edge_index):\n",
        "    x = self.conv1(x, edge_index).relu()\n",
        "    x = self.conv2(x, edge_index)\n",
        "    return x"
      ],
      "metadata": {
        "id": "nxZbbxcK-m90"
      },
      "execution_count": null,
      "outputs": []
    },
    {
      "cell_type": "code",
      "source": [
        "from torch_geometric.nn import GAE"
      ],
      "metadata": {
        "id": "sCqqD8aDAV_2"
      },
      "execution_count": null,
      "outputs": []
    },
    {
      "cell_type": "code",
      "source": [
        "# parameters\n",
        "out_channels = 2\n",
        "num_features = data.num_features\n",
        "epochs = 100\n",
        "\n",
        "# model\n",
        "\n",
        "model = GAE(GCNEncoder(num_features, out_channels))\n",
        "\n",
        "# move to GPU (if available)\n",
        "#device = torch.device('cuda' if torch.cuda.is_available() else 'cpu')\n",
        "device = torch.device(\"cuda:0\" if torch.cuda.is_available() else \"cpu\")\n",
        "model = model.to(device)\n",
        "x = data_t.x.to(device)\n",
        "train_pos_edge_index = data_t.train_pos_edge_index.to(device)\n",
        "\n",
        "# inizialize the optimizer\n",
        "optimizer = torch.optim.Adam(model.parameters(), lr=0.01)"
      ],
      "metadata": {
        "id": "3yhV0euY_np6"
      },
      "execution_count": null,
      "outputs": []
    },
    {
      "cell_type": "code",
      "source": [
        "def train():\n",
        "    model.train()\n",
        "    optimizer.zero_grad()\n",
        "    z = model.encode(x.float(), train_pos_edge_index)\n",
        "    loss = model.recon_loss(z, train_pos_edge_index)\n",
        "\n",
        "    loss.backward()\n",
        "    optimizer.step()\n",
        "    return float(loss)\n",
        "\n",
        "\n",
        "def test(pos_edge_index, neg_edge_index):\n",
        "    model.eval()\n",
        "    with torch.no_grad():\n",
        "        z = model.encode(x.float(), train_pos_edge_index)\n",
        "    return model.test(z, pos_edge_index, neg_edge_index)"
      ],
      "metadata": {
        "id": "1vy0hg4rBCyG"
      },
      "execution_count": null,
      "outputs": []
    },
    {
      "cell_type": "code",
      "source": [
        "for epoch in range(1, epochs + 1):\n",
        "    loss = train()\n",
        "\n",
        "    auc, ap = test(data_t.test_pos_edge_index, data_t.test_neg_edge_index)\n",
        "    print('Epoch: {:03d}, AUC: {:.4f}, AP: {:.4f}'.format(epoch, auc, ap))"
      ],
      "metadata": {
        "colab": {
          "base_uri": "https://localhost:8080/"
        },
        "id": "tsrUiRjfBMr5",
        "outputId": "b2f6c219-760e-42b6-b4e8-b207e991d52a"
      },
      "execution_count": null,
      "outputs": [
        {
          "output_type": "stream",
          "name": "stdout",
          "text": [
            "Epoch: 001, AUC: 0.7778, AP: 0.8667\n",
            "Epoch: 002, AUC: 0.7778, AP: 0.8667\n",
            "Epoch: 003, AUC: 0.7778, AP: 0.8667\n",
            "Epoch: 004, AUC: 0.7778, AP: 0.8667\n",
            "Epoch: 005, AUC: 0.7778, AP: 0.8667\n",
            "Epoch: 006, AUC: 0.7778, AP: 0.8667\n",
            "Epoch: 007, AUC: 0.7778, AP: 0.8667\n",
            "Epoch: 008, AUC: 0.7778, AP: 0.8667\n",
            "Epoch: 009, AUC: 0.7778, AP: 0.8667\n",
            "Epoch: 010, AUC: 0.7778, AP: 0.8667\n",
            "Epoch: 011, AUC: 0.7778, AP: 0.8667\n",
            "Epoch: 012, AUC: 0.7778, AP: 0.8667\n",
            "Epoch: 013, AUC: 0.7778, AP: 0.8667\n",
            "Epoch: 014, AUC: 0.7778, AP: 0.8667\n",
            "Epoch: 015, AUC: 0.7778, AP: 0.8667\n",
            "Epoch: 016, AUC: 0.7778, AP: 0.8667\n",
            "Epoch: 017, AUC: 0.7778, AP: 0.8667\n",
            "Epoch: 018, AUC: 0.7778, AP: 0.8667\n",
            "Epoch: 019, AUC: 0.7778, AP: 0.8667\n",
            "Epoch: 020, AUC: 0.7778, AP: 0.8667\n",
            "Epoch: 021, AUC: 0.7778, AP: 0.8667\n",
            "Epoch: 022, AUC: 0.7778, AP: 0.8667\n",
            "Epoch: 023, AUC: 0.7778, AP: 0.8667\n",
            "Epoch: 024, AUC: 0.7778, AP: 0.8667\n",
            "Epoch: 025, AUC: 0.7778, AP: 0.8667\n",
            "Epoch: 026, AUC: 0.7778, AP: 0.8667\n",
            "Epoch: 027, AUC: 0.7778, AP: 0.8667\n",
            "Epoch: 028, AUC: 0.7778, AP: 0.8667\n",
            "Epoch: 029, AUC: 0.7778, AP: 0.8667\n",
            "Epoch: 030, AUC: 0.7778, AP: 0.8667\n",
            "Epoch: 031, AUC: 0.7778, AP: 0.8667\n",
            "Epoch: 032, AUC: 0.7778, AP: 0.8667\n",
            "Epoch: 033, AUC: 0.7778, AP: 0.8667\n",
            "Epoch: 034, AUC: 0.7778, AP: 0.8667\n",
            "Epoch: 035, AUC: 0.7778, AP: 0.8667\n",
            "Epoch: 036, AUC: 0.7778, AP: 0.8667\n",
            "Epoch: 037, AUC: 0.7778, AP: 0.8667\n",
            "Epoch: 038, AUC: 0.7778, AP: 0.8667\n",
            "Epoch: 039, AUC: 0.7778, AP: 0.8667\n",
            "Epoch: 040, AUC: 0.7778, AP: 0.8667\n",
            "Epoch: 041, AUC: 0.7778, AP: 0.8667\n",
            "Epoch: 042, AUC: 0.7778, AP: 0.8667\n",
            "Epoch: 043, AUC: 0.7778, AP: 0.8667\n",
            "Epoch: 044, AUC: 0.7778, AP: 0.8667\n",
            "Epoch: 045, AUC: 0.7778, AP: 0.8667\n",
            "Epoch: 046, AUC: 0.7778, AP: 0.8667\n",
            "Epoch: 047, AUC: 0.7778, AP: 0.8667\n",
            "Epoch: 048, AUC: 0.7778, AP: 0.8667\n",
            "Epoch: 049, AUC: 0.7778, AP: 0.8667\n",
            "Epoch: 050, AUC: 0.7778, AP: 0.8667\n",
            "Epoch: 051, AUC: 0.7778, AP: 0.8667\n",
            "Epoch: 052, AUC: 0.7778, AP: 0.8667\n",
            "Epoch: 053, AUC: 0.7778, AP: 0.8667\n",
            "Epoch: 054, AUC: 0.7778, AP: 0.8667\n",
            "Epoch: 055, AUC: 0.7778, AP: 0.8667\n",
            "Epoch: 056, AUC: 0.7778, AP: 0.8667\n",
            "Epoch: 057, AUC: 0.7778, AP: 0.8667\n",
            "Epoch: 058, AUC: 0.7778, AP: 0.8667\n",
            "Epoch: 059, AUC: 0.7778, AP: 0.8667\n",
            "Epoch: 060, AUC: 0.8889, AP: 0.9167\n",
            "Epoch: 061, AUC: 0.8889, AP: 0.9167\n",
            "Epoch: 062, AUC: 0.8889, AP: 0.9167\n",
            "Epoch: 063, AUC: 0.8889, AP: 0.9167\n",
            "Epoch: 064, AUC: 0.8889, AP: 0.9167\n",
            "Epoch: 065, AUC: 0.8889, AP: 0.9167\n",
            "Epoch: 066, AUC: 0.8889, AP: 0.9167\n",
            "Epoch: 067, AUC: 0.8889, AP: 0.9167\n",
            "Epoch: 068, AUC: 0.8889, AP: 0.9167\n",
            "Epoch: 069, AUC: 0.8889, AP: 0.9167\n",
            "Epoch: 070, AUC: 0.8889, AP: 0.9167\n",
            "Epoch: 071, AUC: 0.8889, AP: 0.9167\n",
            "Epoch: 072, AUC: 0.8889, AP: 0.9167\n",
            "Epoch: 073, AUC: 0.8889, AP: 0.9167\n",
            "Epoch: 074, AUC: 0.8889, AP: 0.9167\n",
            "Epoch: 075, AUC: 0.8889, AP: 0.9167\n",
            "Epoch: 076, AUC: 0.8889, AP: 0.9167\n",
            "Epoch: 077, AUC: 0.8889, AP: 0.9167\n",
            "Epoch: 078, AUC: 0.8889, AP: 0.9167\n",
            "Epoch: 079, AUC: 1.0000, AP: 1.0000\n",
            "Epoch: 080, AUC: 1.0000, AP: 1.0000\n",
            "Epoch: 081, AUC: 1.0000, AP: 1.0000\n",
            "Epoch: 082, AUC: 1.0000, AP: 1.0000\n",
            "Epoch: 083, AUC: 1.0000, AP: 1.0000\n",
            "Epoch: 084, AUC: 1.0000, AP: 1.0000\n",
            "Epoch: 085, AUC: 1.0000, AP: 1.0000\n",
            "Epoch: 086, AUC: 1.0000, AP: 1.0000\n",
            "Epoch: 087, AUC: 1.0000, AP: 1.0000\n",
            "Epoch: 088, AUC: 1.0000, AP: 1.0000\n",
            "Epoch: 089, AUC: 1.0000, AP: 1.0000\n",
            "Epoch: 090, AUC: 1.0000, AP: 1.0000\n",
            "Epoch: 091, AUC: 1.0000, AP: 1.0000\n",
            "Epoch: 092, AUC: 1.0000, AP: 1.0000\n",
            "Epoch: 093, AUC: 1.0000, AP: 1.0000\n",
            "Epoch: 094, AUC: 1.0000, AP: 1.0000\n",
            "Epoch: 095, AUC: 1.0000, AP: 1.0000\n",
            "Epoch: 096, AUC: 1.0000, AP: 1.0000\n",
            "Epoch: 097, AUC: 1.0000, AP: 1.0000\n",
            "Epoch: 098, AUC: 1.0000, AP: 1.0000\n",
            "Epoch: 099, AUC: 1.0000, AP: 1.0000\n",
            "Epoch: 100, AUC: 1.0000, AP: 1.0000\n"
          ]
        }
      ]
    },
    {
      "cell_type": "code",
      "source": [
        "Z = model.encode(x.float(), train_pos_edge_index)\n",
        "Z"
      ],
      "metadata": {
        "colab": {
          "base_uri": "https://localhost:8080/"
        },
        "id": "IT0k-boaDXBC",
        "outputId": "0d06565e-a7e7-4d88-b19f-72c7ae65885f"
      },
      "execution_count": null,
      "outputs": [
        {
          "output_type": "execute_result",
          "data": {
            "text/plain": [
              "tensor([[ 0.1233,  0.1606],\n",
              "        [ 0.1208,  0.1448],\n",
              "        [ 0.1100,  0.0771],\n",
              "        [ 0.0990,  0.0080],\n",
              "        [ 0.0994,  0.0105],\n",
              "        [ 0.1000,  0.0143],\n",
              "        [ 0.1038,  0.0380],\n",
              "        [ 0.1059,  0.0513],\n",
              "        [ 0.1008,  0.0192],\n",
              "        [ 0.0992,  0.0090],\n",
              "        [ 0.0569, -0.2565],\n",
              "        [ 0.0435, -0.3403],\n",
              "        [ 0.0345, -0.3969],\n",
              "        [ 0.0504, -0.2969],\n",
              "        [ 0.0544, -0.2724],\n",
              "        [ 0.0674, -0.1904],\n",
              "        [ 0.0668, -0.1943],\n",
              "        [ 0.0732, -0.1543],\n",
              "        [ 0.0717, -0.1633],\n",
              "        [ 0.0800, -0.1113],\n",
              "        [ 0.1004,  0.0166],\n",
              "        [ 0.1072,  0.0594],\n",
              "        [ 0.1080,  0.0640],\n",
              "        [ 0.1070,  0.0580],\n",
              "        [ 0.1094,  0.0728],\n",
              "        [ 0.1070,  0.0580],\n",
              "        [ 0.1006,  0.0176],\n",
              "        [ 0.1072,  0.0594],\n",
              "        [ 0.1058,  0.0507],\n",
              "        [ 0.1072,  0.0594],\n",
              "        [ 0.1056,  0.0493],\n",
              "        [ 0.1042,  0.0406]], device='cuda:0', grad_fn=<AddBackward0>)"
            ]
          },
          "metadata": {},
          "execution_count": 43
        }
      ]
    },
    {
      "cell_type": "code",
      "source": [
        "model.decode(Z,train_pos_edge_index)"
      ],
      "metadata": {
        "colab": {
          "base_uri": "https://localhost:8080/"
        },
        "id": "ItjJPgTkENt_",
        "outputId": "7e4653b4-f9cc-4b60-ba39-78e0aaec81d2"
      },
      "execution_count": null,
      "outputs": [
        {
          "output_type": "execute_result",
          "data": {
            "text/plain": [
              "tensor([0.5095, 0.5095, 0.5061, 0.5061, 0.5029, 0.5029, 0.5025, 0.5025, 0.5025,\n",
              "        0.5027, 0.5027, 0.5032, 0.5032, 0.5029, 0.5038, 0.5029, 0.5025, 0.5025,\n",
              "        0.5025, 0.5224, 0.5224, 0.5341, 0.5238, 0.5341, 0.5299, 0.5299, 0.5238,\n",
              "        0.5139, 0.5139, 0.5104, 0.5104, 0.5087, 0.5087, 0.5076, 0.5076, 0.5060,\n",
              "        0.5060, 0.5025, 0.5029, 0.5030, 0.5029, 0.5030, 0.5038, 0.5041, 0.5038,\n",
              "        0.5038, 0.5041, 0.5040, 0.5040, 0.5025, 0.5030, 0.5029, 0.5030, 0.5029,\n",
              "        0.5036, 0.5034, 0.5036, 0.5034, 0.5033, 0.5033], device='cuda:0',\n",
              "       grad_fn=<SigmoidBackward0>)"
            ]
          },
          "metadata": {},
          "execution_count": 52
        }
      ]
    },
    {
      "cell_type": "code",
      "source": [
        "len(x)"
      ],
      "metadata": {
        "id": "4Aqmuon3FH7S",
        "outputId": "c142fcf5-41f6-4649-dcff-854c8180875d",
        "colab": {
          "base_uri": "https://localhost:8080/"
        }
      },
      "execution_count": null,
      "outputs": [
        {
          "output_type": "execute_result",
          "data": {
            "text/plain": [
              "32"
            ]
          },
          "metadata": {},
          "execution_count": 53
        }
      ]
    },
    {
      "cell_type": "code",
      "source": [
        "len(data_t.smiles)"
      ],
      "metadata": {
        "colab": {
          "base_uri": "https://localhost:8080/"
        },
        "id": "2i1fay6tE3g-",
        "outputId": "8b297f6f-4196-4b6c-aad8-2fedddfece57"
      },
      "execution_count": null,
      "outputs": [
        {
          "output_type": "execute_result",
          "data": {
            "text/plain": [
              "54"
            ]
          },
          "metadata": {},
          "execution_count": 49
        }
      ]
    }
  ]
}